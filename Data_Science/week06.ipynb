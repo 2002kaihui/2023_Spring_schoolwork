{
 "cells": [
  {
   "cell_type": "code",
   "execution_count": 41,
   "id": "e4afc34e",
   "metadata": {},
   "outputs": [
    {
     "name": "stdout",
     "output_type": "stream",
     "text": [
      "JPY\n",
      "50000\n",
      "214132.762 JPY\n"
     ]
    }
   ],
   "source": [
    "from bs4 import BeautifulSoup\n",
    "import requests\n",
    "\n",
    "url = 'https://rate.bot.com.tw/xrt?Lang=en-US'\n",
    "html = requests.get(url)\n",
    "html.encoding=\"utf-8\"\n",
    "\n",
    "sp = BeautifulSoup(html.text, \"html.parser\")\n",
    "\n",
    "table = sp.find(\"table\").tbody\n",
    "rows = table.find_all(\"tr\")\n",
    "\n",
    "currencyList = []\n",
    "cashList = []\n",
    "\n",
    "for r in rows:\n",
    "    currency = r.find(\"div\", {\"class\":\"visible-phone print_hide\"}).get_text()\n",
    "    currencyList.append(currency)\n",
    "    cash = r.find(\"td\", {\"data-table\":\"Cash Selling\"}).get_text()\n",
    "    cashList.append(cash)\n",
    "    \n",
    "inputCurrency = input()\n",
    "inputAmount = input()\n",
    "for r in range(len(rows)):\n",
    "    if inputCurrency in currencyList[r]:\n",
    "        exchangeResult = round(float(inputAmount)/float(cashList[r]), 3)\n",
    "        break\n",
    "result = str(exchangeResult) + ' ' + inputCurrency\n",
    "print(result)"
   ]
  }
 ],
 "metadata": {
  "kernelspec": {
   "display_name": "Python 3 (ipykernel)",
   "language": "python",
   "name": "python3"
  },
  "language_info": {
   "codemirror_mode": {
    "name": "ipython",
    "version": 3
   },
   "file_extension": ".py",
   "mimetype": "text/x-python",
   "name": "python",
   "nbconvert_exporter": "python",
   "pygments_lexer": "ipython3",
   "version": "3.9.13"
  }
 },
 "nbformat": 4,
 "nbformat_minor": 5
}
