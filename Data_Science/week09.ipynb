{
 "cells": [
  {
   "cell_type": "code",
   "execution_count": 40,
   "id": "bdbdf9f1",
   "metadata": {},
   "outputs": [
    {
     "name": "stdout",
     "output_type": "stream",
     "text": [
      "65 70 85 90 100 70 70 50 20 -1 80 90 60 30 95 60 75 20 80 -1\n",
      "[[ 65  70  85]\n",
      " [ 90 100  70]\n",
      " [ 70  50  20]]\n",
      "[[80 90 60]\n",
      " [30 95 60]\n",
      " [75 20 80]]\n",
      "[[82.5 80.  72.5]\n",
      " [70.  97.5 65. ]\n",
      " [82.5 -1.  -1. ]]\n"
     ]
    }
   ],
   "source": [
    "import numpy as np\n",
    "userInput = input().split(' ')\n",
    "\n",
    "tempsc = []\n",
    "sc = []\n",
    "for item in userInput:\n",
    "    if item == '-1':\n",
    "        sc.append(tempsc)\n",
    "        numGroups = int(len(tempsc)/3)\n",
    "        tempsc = []\n",
    "    else:\n",
    "        tempsc.append(int(item))\n",
    "\n",
    "score1 = np.array(sc[0]).reshape(numGroups, 3)\n",
    "score2 = np.array(sc[1]).reshape(numGroups, 3)\n",
    "\n",
    "div = np.full((numGroups,3), 2)\n",
    "\n",
    "add = np.add(score1, score2)\n",
    "average = np.divide(add, div)\n",
    "\n",
    "for i in range(average.shape[0]):\n",
    "    average[i][0]+=10\n",
    "\n",
    "for i in range(numGroups):\n",
    "    for j in range(3):\n",
    "        if average[i][j] < 60:\n",
    "            average[i][j] = -1\n",
    "        \n",
    "print(score1)\n",
    "print(score2)\n",
    "print(average)"
   ]
  }
 ],
 "metadata": {
  "kernelspec": {
   "display_name": "Python 3 (ipykernel)",
   "language": "python",
   "name": "python3"
  },
  "language_info": {
   "codemirror_mode": {
    "name": "ipython",
    "version": 3
   },
   "file_extension": ".py",
   "mimetype": "text/x-python",
   "name": "python",
   "nbconvert_exporter": "python",
   "pygments_lexer": "ipython3",
   "version": "3.9.13"
  }
 },
 "nbformat": 4,
 "nbformat_minor": 5
}
