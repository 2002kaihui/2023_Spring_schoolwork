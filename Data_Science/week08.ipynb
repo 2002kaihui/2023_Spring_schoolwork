{
 "cells": [
  {
   "cell_type": "code",
   "execution_count": 62,
   "id": "899e95cb",
   "metadata": {},
   "outputs": [
    {
     "name": "stdout",
     "output_type": "stream",
     "text": [
      "Hualien County\n",
      "Hualien County\n",
      "20 - 27\n"
     ]
    }
   ],
   "source": [
    "from selenium import webdriver\n",
    "from selenium.webdriver.chrome.service import Service\n",
    "from bs4 import BeautifulSoup\n",
    "\n",
    "driverPath = \"chromedriver.exe\"\n",
    "s = Service(executable_path=driverPath)\n",
    "browser = webdriver.Chrome(service=s)\n",
    "browser.get('https://www.cwb.gov.tw/V8/E/W/County/County.html?CID=63')  \n",
    "\n",
    "html = browser.page_source\n",
    "sp = BeautifulSoup(html, \"lxml\")\n",
    "\n",
    "elements = []\n",
    "elems = sp.find(\"div\", {\"class\":\"col-lg-12\"}).find(\"select\", {\"id\":\"CID\"}).find_all(\"option\")\n",
    "for elem in elems:\n",
    "    if elem['value']:\n",
    "        temp_elem = []\n",
    "        temp_elem.append(elem.get_text())\n",
    "        temp_elem.append(elem['value'])\n",
    "        elements.append(temp_elem)\n",
    "\n",
    "userInput= input()\n",
    "\n",
    "if userInput == 'all':\n",
    "    for element in elements:\n",
    "        today = []\n",
    "        url = 'https://www.cwb.gov.tw/V8/E/W/County/County.html?CID=' + element[1]\n",
    "        browser.get(url)\n",
    "        temp_html = browser.page_source\n",
    "        temp_sp = BeautifulSoup(temp_html, \"lxml\")\n",
    "        today = temp_sp.find(\"div\", {\"class\":\"banner_wrap\"}).find_all(\"li\")[1]\n",
    "        weather = today.find(\"span\", {\"class\":\"tem\"}).find(\"span\", {\"class\":\"tem-C is-active\"})\n",
    "        city = element[0]\n",
    "        print(city)\n",
    "        print(weather.text)\n",
    "else:\n",
    "    for element in elements:\n",
    "        if userInput in element:\n",
    "            url = 'https://www.cwb.gov.tw/V8/E/W/County/County.html?CID=' + element[1]\n",
    "            browser.get(url)\n",
    "            temp_html = browser.page_source\n",
    "            temp_sp = BeautifulSoup(temp_html, \"lxml\")\n",
    "            today = temp_sp.find(\"div\", {\"class\":\"banner_wrap\"}).find_all(\"li\")[1]\n",
    "            weather = today.find(\"span\", {\"class\":\"tem\"}).find(\"span\", {\"class\":\"tem-C is-active\"})\n",
    "            city = element[0]\n",
    "            print(city)\n",
    "            print(weather.text)\n",
    "            \n",
    "browser.quit()  "
   ]
  }
 ],
 "metadata": {
  "kernelspec": {
   "display_name": "Python 3 (ipykernel)",
   "language": "python",
   "name": "python3"
  },
  "language_info": {
   "codemirror_mode": {
    "name": "ipython",
    "version": 3
   },
   "file_extension": ".py",
   "mimetype": "text/x-python",
   "name": "python",
   "nbconvert_exporter": "python",
   "pygments_lexer": "ipython3",
   "version": "3.9.13"
  }
 },
 "nbformat": 4,
 "nbformat_minor": 5
}
