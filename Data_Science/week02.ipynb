{
 "cells": [
  {
   "cell_type": "code",
   "execution_count": 1,
   "id": "014f64d8",
   "metadata": {},
   "outputs": [
    {
     "name": "stdout",
     "output_type": "stream",
     "text": [
      "6\n",
      "1 factorial-> 1\n",
      "2 factorial-> 2\n",
      "3 factorial-> 6\n",
      "5 factorial-> 120\n",
      "8 factorial-> 40320\n",
      "13 factorial-> 6227020800\n"
     ]
    }
   ],
   "source": [
    "def factorial(n):\n",
    "    return 1 if (n==1 or n==0) else n * factorial(n - 1); \n",
    "\n",
    "num = int(input())\n",
    "listlist = [0, 1, 2]\n",
    "start = 1\n",
    "\n",
    "for i in range (1, num+1):\n",
    "    listlist.append(listlist[start+i-1]+listlist[start+i])\n",
    "    print(listlist[i],'factorial->',factorial(listlist[i]))"
   ]
  },
  {
   "cell_type": "code",
   "execution_count": 51,
   "id": "6677969f",
   "metadata": {},
   "outputs": [
    {
     "name": "stdout",
     "output_type": "stream",
     "text": [
      "2\n",
      "3\n",
      "0 1 1 1 0 0 0 0 0 0\n",
      "13\n",
      "1 6 2 2 1 1 1 1 1 1\n"
     ]
    }
   ],
   "source": [
    "datasets = int(input())\n",
    "for i in range(datasets):\n",
    "    case = int(input())\n",
    "    str1 = \"\"\n",
    "    for x in range (1, case+1):\n",
    "        str1 = ''.join([str1,str(x)])\n",
    "    print(str1.count(\"0\"), str1.count(\"1\"), str1.count(\"2\"), str1.count(\"3\"), str1.count(\"4\"), str1.count(\"5\"), str1.count(\"6\"), str1.count(\"7\"), str1.count(\"8\"), str1.count(\"9\"))\n",
    "    "
   ]
  },
  {
   "cell_type": "markdown",
   "id": "5b07910d",
   "metadata": {},
   "source": []
  },
  {
   "cell_type": "code",
   "execution_count": null,
   "id": "32621820",
   "metadata": {},
   "outputs": [],
   "source": []
  }
 ],
 "metadata": {
  "kernelspec": {
   "display_name": "Python 3 (ipykernel)",
   "language": "python",
   "name": "python3"
  },
  "language_info": {
   "codemirror_mode": {
    "name": "ipython",
    "version": 3
   },
   "file_extension": ".py",
   "mimetype": "text/x-python",
   "name": "python",
   "nbconvert_exporter": "python",
   "pygments_lexer": "ipython3",
   "version": "3.9.13"
  }
 },
 "nbformat": 4,
 "nbformat_minor": 5
}
